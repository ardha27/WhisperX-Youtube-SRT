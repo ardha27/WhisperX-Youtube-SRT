{
  "nbformat": 4,
  "nbformat_minor": 0,
  "metadata": {
    "colab": {
      "provenance": [],
      "gpuType": "T4",
      "include_colab_link": true
    },
    "kernelspec": {
      "name": "python3",
      "display_name": "Python 3"
    },
    "language_info": {
      "name": "python"
    },
    "accelerator": "GPU",
    "gpuClass": "standard"
  },
  "cells": [
    {
      "cell_type": "markdown",
      "metadata": {
        "id": "view-in-github",
        "colab_type": "text"
      },
      "source": [
        "<a href=\"https://colab.research.google.com/github/ardha27/WhisperX-Youtube-SRT/blob/main/WhisperX_Youtube_SRT.ipynb\" target=\"_parent\"><img src=\"https://colab.research.google.com/assets/colab-badge.svg\" alt=\"Open In Colab\"/></a>"
      ]
    },
    {
      "cell_type": "markdown",
      "source": [
        "# Install WhisperX"
      ],
      "metadata": {
        "id": "80yOVjb-vAsD"
      }
    },
    {
      "cell_type": "code",
      "execution_count": null,
      "metadata": {
        "id": "Hcc35ui3ux8l"
      },
      "outputs": [],
      "source": [
        "%%capture\n",
        "!pip install virtualenv\n",
        "!virtualenv whisper-env\n",
        "!source whisper-env/bin/activate\n",
        "!whisper-env/bin/pip install git+https://github.com/m-bain/whisperx.git@v2.0.1"
      ]
    },
    {
      "cell_type": "code",
      "source": [
        "!pip uninstall torchaudio -y\n",
        "!pip install torchaudio==0.13.1\n",
        "!pip install torch==1.13.1 --index-url https://download.pytorch.org/whl/cu117"
      ],
      "metadata": {
        "id": "B9jVTgLUooEK"
      },
      "execution_count": null,
      "outputs": []
    },
    {
      "cell_type": "code",
      "source": [
        "#@title 1. Install Library for Youtube MP3 Download\n",
        "!pip install yt_dlp\n",
        "!pip install ffmpeg\n",
        "!mkdir youtubeaudio"
      ],
      "metadata": {
        "id": "gy550p0Vj0DG"
      },
      "execution_count": null,
      "outputs": []
    },
    {
      "cell_type": "code",
      "source": [
        "#@title Download Youtube MP3\n",
        "from __future__ import unicode_literals\n",
        "import yt_dlp\n",
        "import ffmpeg\n",
        "import sys\n",
        "\n",
        "ydl_opts = {\n",
        "    'format': 'bestaudio/best',\n",
        "#    'outtmpl': 'output.%(ext)s',\n",
        "    'postprocessors': [{\n",
        "        'key': 'FFmpegExtractAudio',\n",
        "        'preferredcodec': 'mp3',\n",
        "    }],\n",
        "    \"outtmpl\": 'audio',  # this is where you can edit how you'd like the filenames to be formatted\n",
        "}\n",
        "def download_from_url(url):\n",
        "    ydl.download([url])\n",
        "    # stream = ffmpeg.input('output.m4a')\n",
        "    # stream = ffmpeg.output(stream, 'output.wav')\n",
        "\n",
        "\n",
        "with yt_dlp.YoutubeDL(ydl_opts) as ydl:\n",
        "      url = \"https://www.youtube.com/watch?v=l665JvVDKhk&t=9s\" #@param {type:\"string\"}\n",
        "      download_from_url(url)\n",
        "\n",
        "\n",
        "\n"
      ],
      "metadata": {
        "id": "Z2leVovKj26n"
      },
      "execution_count": null,
      "outputs": []
    },
    {
      "cell_type": "markdown",
      "source": [
        "# Get Ass Subtitle File Saved using WhisperX "
      ],
      "metadata": {
        "id": "QxEqkpyuQL5_"
      }
    },
    {
      "cell_type": "code",
      "source": [
        "!whisper-env/bin/whisperx audio.mp3 --language id --model large-v2 --vad_filter True --output_format srt --align_model WAV2VEC2_ASR_LARGE_LV60K_960H"
      ],
      "metadata": {
        "id": "qWk9Y3Uxv9qu"
      },
      "execution_count": null,
      "outputs": []
    }
  ]
}